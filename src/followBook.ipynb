{
 "cells": [
  {
   "cell_type": "code",
   "execution_count": 13,
   "metadata": {},
   "outputs": [],
   "source": [
    "import mnist_loader\n",
    "training_data, validation_data, test_data = \\\n",
    "mnist_loader.load_data_wrapper()"
   ]
  },
  {
   "cell_type": "code",
   "execution_count": 14,
   "metadata": {},
   "outputs": [
    {
     "data": {
      "text/plain": [
       "(50000, 10000, 10000)"
      ]
     },
     "execution_count": 14,
     "metadata": {},
     "output_type": "execute_result"
    }
   ],
   "source": [
    "len(training_data), len(validation_data), len(test_data)"
   ]
  },
  {
   "cell_type": "code",
   "execution_count": 27,
   "metadata": {},
   "outputs": [
    {
     "data": {
      "text/plain": [
       "(784, 1)"
      ]
     },
     "execution_count": 27,
     "metadata": {},
     "output_type": "execute_result"
    }
   ],
   "source": [
    "training_data[0][0].shape"
   ]
  },
  {
   "cell_type": "code",
   "execution_count": 4,
   "metadata": {},
   "outputs": [],
   "source": [
    "import network\n",
    "net = network.Network([784, 30, 10])"
   ]
  },
  {
   "cell_type": "code",
   "execution_count": 10,
   "metadata": {},
   "outputs": [
    {
     "name": "stdout",
     "output_type": "stream",
     "text": [
      "Epoch 0: 8075 / 10000\n",
      "Epoch 1: 8175 / 10000\n",
      "Epoch 2: 8257 / 10000\n",
      "Epoch 3: 9379 / 10000\n",
      "Epoch 4: 9395 / 10000\n",
      "Epoch 5: 9382 / 10000\n",
      "Epoch 6: 9436 / 10000\n",
      "Epoch 7: 9464 / 10000\n",
      "Epoch 8: 9425 / 10000\n",
      "Epoch 9: 9459 / 10000\n",
      "Epoch 10: 9497 / 10000\n",
      "Epoch 11: 9482 / 10000\n",
      "Epoch 12: 9484 / 10000\n",
      "Epoch 13: 9495 / 10000\n",
      "Epoch 14: 9479 / 10000\n",
      "Epoch 15: 9524 / 10000\n",
      "Epoch 16: 9526 / 10000\n",
      "Epoch 17: 9506 / 10000\n",
      "Epoch 18: 9518 / 10000\n",
      "Epoch 19: 9517 / 10000\n",
      "Epoch 20: 9507 / 10000\n",
      "Epoch 21: 9504 / 10000\n",
      "Epoch 22: 9504 / 10000\n",
      "Epoch 23: 9494 / 10000\n",
      "Epoch 24: 9507 / 10000\n",
      "Epoch 25: 9508 / 10000\n",
      "Epoch 26: 9497 / 10000\n",
      "Epoch 27: 9515 / 10000\n",
      "Epoch 28: 9503 / 10000\n",
      "Epoch 29: 9525 / 10000\n"
     ]
    }
   ],
   "source": [
    "net.SGD(training_data, 30, 10, 3.0, test_data=test_data)"
   ]
  },
  {
   "cell_type": "code",
   "execution_count": 5,
   "metadata": {},
   "outputs": [],
   "source": [
    "net2 = network.Network([784, 10])"
   ]
  },
  {
   "cell_type": "code",
   "execution_count": 6,
   "metadata": {},
   "outputs": [
    {
     "name": "stdout",
     "output_type": "stream",
     "text": [
      "Epoch 0: 5311 / 10000\n",
      "Epoch 1: 5426 / 10000\n",
      "Epoch 2: 5442 / 10000\n",
      "Epoch 3: 6215 / 10000\n",
      "Epoch 4: 6303 / 10000\n",
      "Epoch 5: 6342 / 10000\n",
      "Epoch 6: 7509 / 10000\n",
      "Epoch 7: 7524 / 10000\n",
      "Epoch 8: 8341 / 10000\n",
      "Epoch 9: 8367 / 10000\n",
      "Epoch 10: 8358 / 10000\n",
      "Epoch 11: 8337 / 10000\n",
      "Epoch 12: 8338 / 10000\n",
      "Epoch 13: 8363 / 10000\n",
      "Epoch 14: 8360 / 10000\n",
      "Epoch 15: 8383 / 10000\n",
      "Epoch 16: 8366 / 10000\n",
      "Epoch 17: 8370 / 10000\n",
      "Epoch 18: 8363 / 10000\n",
      "Epoch 19: 8372 / 10000\n",
      "Epoch 20: 8401 / 10000\n",
      "Epoch 21: 8410 / 10000\n",
      "Epoch 22: 8403 / 10000\n",
      "Epoch 23: 8364 / 10000\n",
      "Epoch 24: 8383 / 10000\n",
      "Epoch 25: 8397 / 10000\n",
      "Epoch 26: 8407 / 10000\n",
      "Epoch 27: 8396 / 10000\n",
      "Epoch 28: 8383 / 10000\n",
      "Epoch 29: 8392 / 10000\n"
     ]
    }
   ],
   "source": [
    "net2.SGD(training_data, 30, 10, 3.0, test_data=test_data)"
   ]
  },
  {
   "cell_type": "code",
   "execution_count": null,
   "metadata": {},
   "outputs": [],
   "source": []
  }
 ],
 "metadata": {
  "kernelspec": {
   "display_name": "Python 2.7.16 64-bit",
   "language": "python",
   "name": "python271664bit9e0270b35be64079b3cfbcc6e38f6389"
  },
  "language_info": {
   "codemirror_mode": {
    "name": "ipython",
    "version": 2
   },
   "file_extension": ".py",
   "mimetype": "text/x-python",
   "name": "python",
   "nbconvert_exporter": "python",
   "pygments_lexer": "ipython2",
   "version": "2.7.16"
  }
 },
 "nbformat": 4,
 "nbformat_minor": 2
}
