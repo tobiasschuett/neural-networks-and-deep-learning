{
 "cells": [
  {
   "cell_type": "code",
   "execution_count": 1,
   "metadata": {},
   "outputs": [],
   "source": [
    "#import some data\n",
    "import mnist_loader\n",
    "training_data, validation_data, test_data = mnist_loader.load_data_wrapper()"
   ]
  },
  {
   "cell_type": "code",
   "execution_count": 284,
   "metadata": {
    "scrolled": true
   },
   "outputs": [
    {
     "data": {
      "text/plain": [
       "(50000, 10000, 10000)"
      ]
     },
     "execution_count": 284,
     "metadata": {},
     "output_type": "execute_result"
    }
   ],
   "source": [
    "len(training_data), len(validation_data), len(test_data)"
   ]
  },
  {
   "cell_type": "code",
   "execution_count": 290,
   "metadata": {},
   "outputs": [],
   "source": [
    "red_training_data = training_data[:100]\n",
    "red_validation_data = validation_data[:100]\n",
    "red_test_data = test_data[:100]"
   ]
  },
  {
   "cell_type": "code",
   "execution_count": 3,
   "metadata": {},
   "outputs": [],
   "source": [
    "import numpy as np"
   ]
  },
  {
   "cell_type": "code",
   "execution_count": 281,
   "metadata": {},
   "outputs": [],
   "source": [
    "testimage = training_data[0][0]\n",
    "testimage2 = training_data[1][0]"
   ]
  },
  {
   "cell_type": "code",
   "execution_count": 384,
   "metadata": {},
   "outputs": [],
   "source": [
    "#create activation function\n",
    "def ReLU(x):\n",
    "    return max(0,x)\n",
    "def sigmoid(x):\n",
    "    return 1/(1+np.exp(-x))\n",
    "\n",
    "# create network\n",
    "class Network:\n",
    "    def __init__(self, layers,activation_function):\n",
    "        self.layers = np.append(784,layers)\n",
    "        self.weights = []\n",
    "        self.biases = []\n",
    "        self.act_func = activation_function\n",
    "        #initialise weights and biases randomly\n",
    "        for i in range(len(self.layers)-1):\n",
    "            w = np.random.rand(self.layers[i+1],self.layers[i])\n",
    "            self.weights.append(w)\n",
    "            b = np.random.rand(self.layers[i+1])\n",
    "            self.biases.append(b)\n",
    "            \n",
    "    def forwardfeed(self,image):\n",
    "        for i in range(len(self.layers)-1):\n",
    "            if i == 0:\n",
    "                a = np.dot(self.weights[i],image).flatten()\n",
    "                b = self.biases[i]\n",
    "                activations = np.add(a,b)\n",
    "                activations = [self.act_func(i) for i in activations]\n",
    "            else:\n",
    "                a = np.dot(self.weights[i],activations).flatten()\n",
    "                b = self.biases[i]\n",
    "                activations = np.add(a,b)\n",
    "                activations = [self.act_func(i) for i in activations]\n",
    "                \n",
    "        return activations\n",
    "    \n",
    "    def cost(self):\n",
    "        costs = []\n",
    "        for i in red_training_data:\n",
    "            result = self.forwardfeed(i[0])\n",
    "            cost = 0\n",
    "            for j in range(0,10):\n",
    "                cost += (result[j]-i[1][j])**2\n",
    "            costs.append(cost)\n",
    "        return np.mean(costs)\n",
    "    \n",
    "    def train(self,batchsize=50):\n",
    "        pass\n",
    "    \n",
    "    def gradient(self,training_sample):\n",
    "        ts = training_sample\n",
    "        weight_nudges = np.zeros(testnet.layers[1:])\n",
    "        biases_nudges = 0\n",
    "        #last layer weight & biases derivatives\n",
    "        for j in range(len(ts[1])):\n",
    "            # add biases change\n",
    "            for k in range(self.layers[-2]):\n",
    "                #nudges[]\n",
    "                pass\n",
    "        #second to last \n",
    "            \n",
    "        \n",
    "        "
   ]
  },
  {
   "cell_type": "code",
   "execution_count": 341,
   "metadata": {},
   "outputs": [],
   "source": [
    "testnet = Network([16,18,10],sigmoid)\n",
    "testnet2 = Network([16,18,10],sigmoid) #different due to random"
   ]
  },
  {
   "cell_type": "code",
   "execution_count": 342,
   "metadata": {
    "scrolled": true
   },
   "outputs": [
    {
     "data": {
      "text/plain": [
       "[0.99997494244729956,\n",
       " 0.9992138747505146,\n",
       " 0.99984778580394096,\n",
       " 0.99957073130652219,\n",
       " 0.99988104918559539,\n",
       " 0.99993503985869503,\n",
       " 0.99998997463862926,\n",
       " 0.99986141435081666,\n",
       " 0.99979781407966906,\n",
       " 0.99907891596619336]"
      ]
     },
     "execution_count": 342,
     "metadata": {},
     "output_type": "execute_result"
    }
   ],
   "source": [
    "testnet.forwardfeed(testimage)"
   ]
  },
  {
   "cell_type": "code",
   "execution_count": 343,
   "metadata": {},
   "outputs": [
    {
     "data": {
      "text/plain": [
       "8.9949417487748438"
      ]
     },
     "execution_count": 343,
     "metadata": {},
     "output_type": "execute_result"
    }
   ],
   "source": [
    "testnet.cost()"
   ]
  },
  {
   "cell_type": "code",
   "execution_count": 344,
   "metadata": {},
   "outputs": [
    {
     "data": {
      "text/plain": [
       "8.9982807019222726"
      ]
     },
     "execution_count": 344,
     "metadata": {},
     "output_type": "execute_result"
    }
   ],
   "source": [
    "testnet2.cost()"
   ]
  },
  {
   "cell_type": "code",
   "execution_count": 379,
   "metadata": {},
   "outputs": [
    {
     "data": {
      "text/plain": [
       "18"
      ]
     },
     "execution_count": 379,
     "metadata": {},
     "output_type": "execute_result"
    }
   ],
   "source": [
    "len(testnet.weights[2][0])"
   ]
  },
  {
   "cell_type": "code",
   "execution_count": 381,
   "metadata": {},
   "outputs": [
    {
     "data": {
      "text/plain": [
       "18"
      ]
     },
     "execution_count": 381,
     "metadata": {},
     "output_type": "execute_result"
    }
   ],
   "source": [
    "len(np.zeros(np.append(3,testnet.layers[1:]))[2][0])"
   ]
  },
  {
   "cell_type": "code",
   "execution_count": null,
   "metadata": {},
   "outputs": [],
   "source": []
  }
 ],
 "metadata": {
  "kernelspec": {
   "display_name": "Python 2.7.16 64-bit",
   "language": "python",
   "name": "python271664bit9e0270b35be64079b3cfbcc6e38f6389"
  },
  "language_info": {
   "codemirror_mode": {
    "name": "ipython",
    "version": 2
   },
   "file_extension": ".py",
   "mimetype": "text/x-python",
   "name": "python",
   "nbconvert_exporter": "python",
   "pygments_lexer": "ipython2",
   "version": "2.7.16"
  }
 },
 "nbformat": 4,
 "nbformat_minor": 2
}
